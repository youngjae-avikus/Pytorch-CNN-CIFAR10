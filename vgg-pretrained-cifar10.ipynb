{
 "cells": [
  {
   "attachments": {},
   "cell_type": "markdown",
   "metadata": {},
   "source": [
    "## 1. 사전학습된 VGG 불러오기"
   ]
  },
  {
   "cell_type": "code",
   "execution_count": 1,
   "metadata": {},
   "outputs": [],
   "source": [
    "import torch\n",
    "import torch.nn as nn\n",
    "from torchvision.models.vgg import vgg16"
   ]
  },
  {
   "cell_type": "code",
   "execution_count": 2,
   "metadata": {},
   "outputs": [
    {
     "name": "stderr",
     "output_type": "stream",
     "text": [
      "/home/aicads/anaconda3/envs/yolo/lib/python3.8/site-packages/torchvision/models/_utils.py:208: UserWarning: The parameter 'pretrained' is deprecated since 0.13 and will be removed in 0.15, please use 'weights' instead.\n",
      "  warnings.warn(\n",
      "/home/aicads/anaconda3/envs/yolo/lib/python3.8/site-packages/torchvision/models/_utils.py:223: UserWarning: Arguments other than a weight enum or `None` for 'weights' are deprecated since 0.13 and will be removed in 0.15. The current behavior is equivalent to passing `weights=VGG16_Weights.IMAGENET1K_V1`. You can also use `weights=VGG16_Weights.DEFAULT` to get the most up-to-date weights.\n",
      "  warnings.warn(msg)\n"
     ]
    },
    {
     "data": {
      "text/plain": [
       "VGG(\n",
       "  (features): Sequential(\n",
       "    (0): Conv2d(3, 64, kernel_size=(3, 3), stride=(1, 1), padding=(1, 1))\n",
       "    (1): ReLU(inplace=True)\n",
       "    (2): Conv2d(64, 64, kernel_size=(3, 3), stride=(1, 1), padding=(1, 1))\n",
       "    (3): ReLU(inplace=True)\n",
       "    (4): MaxPool2d(kernel_size=2, stride=2, padding=0, dilation=1, ceil_mode=False)\n",
       "    (5): Conv2d(64, 128, kernel_size=(3, 3), stride=(1, 1), padding=(1, 1))\n",
       "    (6): ReLU(inplace=True)\n",
       "    (7): Conv2d(128, 128, kernel_size=(3, 3), stride=(1, 1), padding=(1, 1))\n",
       "    (8): ReLU(inplace=True)\n",
       "    (9): MaxPool2d(kernel_size=2, stride=2, padding=0, dilation=1, ceil_mode=False)\n",
       "    (10): Conv2d(128, 256, kernel_size=(3, 3), stride=(1, 1), padding=(1, 1))\n",
       "    (11): ReLU(inplace=True)\n",
       "    (12): Conv2d(256, 256, kernel_size=(3, 3), stride=(1, 1), padding=(1, 1))\n",
       "    (13): ReLU(inplace=True)\n",
       "    (14): Conv2d(256, 256, kernel_size=(3, 3), stride=(1, 1), padding=(1, 1))\n",
       "    (15): ReLU(inplace=True)\n",
       "    (16): MaxPool2d(kernel_size=2, stride=2, padding=0, dilation=1, ceil_mode=False)\n",
       "    (17): Conv2d(256, 512, kernel_size=(3, 3), stride=(1, 1), padding=(1, 1))\n",
       "    (18): ReLU(inplace=True)\n",
       "    (19): Conv2d(512, 512, kernel_size=(3, 3), stride=(1, 1), padding=(1, 1))\n",
       "    (20): ReLU(inplace=True)\n",
       "    (21): Conv2d(512, 512, kernel_size=(3, 3), stride=(1, 1), padding=(1, 1))\n",
       "    (22): ReLU(inplace=True)\n",
       "    (23): MaxPool2d(kernel_size=2, stride=2, padding=0, dilation=1, ceil_mode=False)\n",
       "    (24): Conv2d(512, 512, kernel_size=(3, 3), stride=(1, 1), padding=(1, 1))\n",
       "    (25): ReLU(inplace=True)\n",
       "    (26): Conv2d(512, 512, kernel_size=(3, 3), stride=(1, 1), padding=(1, 1))\n",
       "    (27): ReLU(inplace=True)\n",
       "    (28): Conv2d(512, 512, kernel_size=(3, 3), stride=(1, 1), padding=(1, 1))\n",
       "    (29): ReLU(inplace=True)\n",
       "    (30): MaxPool2d(kernel_size=2, stride=2, padding=0, dilation=1, ceil_mode=False)\n",
       "  )\n",
       "  (avgpool): AdaptiveAvgPool2d(output_size=(7, 7))\n",
       "  (classifier): Sequential(\n",
       "    (0): Linear(in_features=25088, out_features=4096, bias=True)\n",
       "    (1): ReLU()\n",
       "    (2): Dropout(p=0.5, inplace=False)\n",
       "    (3): Linear(in_features=4096, out_features=4096, bias=True)\n",
       "    (4): ReLU()\n",
       "    (5): Dropout(p=0.5, inplace=False)\n",
       "    (6): Linear(in_features=4096, out_features=10, bias=True)\n",
       "  )\n",
       ")"
      ]
     },
     "execution_count": 2,
     "metadata": {},
     "output_type": "execute_result"
    }
   ],
   "source": [
    "device = \"cuda\" if torch.cuda.is_available() else \"cpu\"\n",
    "\n",
    "model = vgg16(pretrained=True)\n",
    "fc = nn.Sequential(\n",
    "    nn.Linear(512*7*7, 4096),\n",
    "    nn.ReLU(),\n",
    "    nn.Dropout(),\n",
    "    nn.Linear(4096, 4096),\n",
    "    nn.ReLU(),\n",
    "    nn.Dropout(),\n",
    "    nn.Linear(4096, 10),\n",
    ")\n",
    "\n",
    "model.classifier = fc\n",
    "model.to(device)"
   ]
  },
  {
   "cell_type": "code",
   "execution_count": 3,
   "metadata": {},
   "outputs": [
    {
     "name": "stdout",
     "output_type": "stream",
     "text": [
      "Files already downloaded and verified\n",
      "Files already downloaded and verified\n"
     ]
    }
   ],
   "source": [
    "import tqdm\n",
    "\n",
    "from torchvision.datasets.cifar import CIFAR10\n",
    "from torchvision.transforms import Compose, RandomCrop, ToTensor, Resize, Normalize, RandomHorizontalFlip\n",
    "from torch.utils.data.dataloader import DataLoader\n",
    "\n",
    "from torch.optim.adam import Adam\n",
    "\n",
    "transforms = Compose([\n",
    "    Resize(224),\n",
    "    RandomCrop((224,224), padding=4),\n",
    "    RandomHorizontalFlip(p=0.5),\n",
    "    ToTensor(),\n",
    "    Normalize(mean=(0.4914, 0.4822, 0.44465), std=(0.247, 0.243, 0.261))\n",
    "])\n",
    "\n",
    "training_data = CIFAR10(root='./', download=True, train=True, transform=transforms)\n",
    "test_data = CIFAR10(root='./', download=True, train=False, transform=transforms)\n",
    "\n",
    "train_loader = DataLoader(training_data, batch_size=64, shuffle=True)\n",
    "test_loader = DataLoader(test_data, batch_size=64, shuffle=False)"
   ]
  },
  {
   "attachments": {},
   "cell_type": "markdown",
   "metadata": {},
   "source": [
    "## 2. 모델 훈련하기"
   ]
  },
  {
   "cell_type": "code",
   "execution_count": 4,
   "metadata": {},
   "outputs": [
    {
     "name": "stderr",
     "output_type": "stream",
     "text": [
      "epoch:1 loss:0.07583153992891312: 100%|██████████| 782/782 [04:52<00:00,  2.67it/s]\n",
      "epoch:2 loss:0.447729229927063: 100%|██████████| 782/782 [04:50<00:00,  2.69it/s]   \n",
      "epoch:3 loss:0.276898592710495: 100%|██████████| 782/782 [04:51<00:00,  2.68it/s]   \n",
      "epoch:4 loss:0.03564669191837311: 100%|██████████| 782/782 [04:51<00:00,  2.68it/s] \n",
      "epoch:5 loss:0.3124959170818329: 100%|██████████| 782/782 [04:51<00:00,  2.68it/s]  \n",
      "epoch:6 loss:0.041126225143671036: 100%|██████████| 782/782 [04:51<00:00,  2.68it/s]\n",
      "epoch:7 loss:0.0038204751908779144: 100%|██████████| 782/782 [04:51<00:00,  2.68it/s]\n",
      "epoch:8 loss:0.19886036217212677: 100%|██████████| 782/782 [04:51<00:00,  2.68it/s]  \n",
      "epoch:9 loss:0.01972886174917221: 100%|██████████| 782/782 [04:51<00:00,  2.68it/s]  \n",
      "epoch:10 loss:0.1995793730020523: 100%|██████████| 782/782 [04:50<00:00,  2.69it/s]   \n",
      "epoch:11 loss:0.006823040544986725: 100%|██████████| 782/782 [04:51<00:00,  2.68it/s] \n",
      "epoch:12 loss:0.0005984307499602437: 100%|██████████| 782/782 [04:51<00:00,  2.69it/s]\n",
      "epoch:13 loss:0.0009068364161066711: 100%|██████████| 782/782 [04:50<00:00,  2.69it/s]\n",
      "epoch:14 loss:0.04222550243139267: 100%|██████████| 782/782 [04:50<00:00,  2.69it/s]  \n",
      "epoch:15 loss:0.0013180689420551062: 100%|██████████| 782/782 [04:50<00:00,  2.70it/s] \n",
      "epoch:16 loss:0.19626851379871368: 100%|██████████| 782/782 [04:50<00:00,  2.69it/s]   \n",
      "epoch:17 loss:0.06935440748929977: 100%|██████████| 782/782 [04:51<00:00,  2.68it/s]   \n",
      "epoch:18 loss:0.0006018178537487984: 100%|██████████| 782/782 [04:51<00:00,  2.68it/s] \n",
      "epoch:19 loss:0.00040186807746067643: 100%|██████████| 782/782 [04:51<00:00,  2.69it/s]\n",
      "epoch:20 loss:0.1279401332139969: 100%|██████████| 782/782 [04:51<00:00,  2.69it/s]    \n",
      "epoch:21 loss:0.003306630067527294: 100%|██████████| 782/782 [04:51<00:00,  2.69it/s]  \n",
      "epoch:22 loss:0.0012687669368460774: 100%|██████████| 782/782 [04:50<00:00,  2.69it/s] \n",
      "epoch:23 loss:0.07327652722597122: 100%|██████████| 782/782 [04:50<00:00,  2.69it/s]   \n",
      "epoch:24 loss:0.012150188907980919: 100%|██████████| 782/782 [04:50<00:00,  2.70it/s]  \n",
      "epoch:25 loss:0.00013267040776554495: 100%|██████████| 782/782 [04:50<00:00,  2.69it/s]\n",
      "epoch:26 loss:2.684822175069712e-05: 100%|██████████| 782/782 [04:51<00:00,  2.69it/s] \n",
      "epoch:27 loss:0.0007431331323459744: 100%|██████████| 782/782 [04:51<00:00,  2.69it/s] \n",
      "epoch:28 loss:0.0018942527240142226: 100%|██████████| 782/782 [04:51<00:00,  2.69it/s] \n",
      "epoch:29 loss:2.6058643925352953e-05: 100%|██████████| 782/782 [04:51<00:00,  2.68it/s]\n",
      "epoch:30 loss:0.0013173670740798116: 100%|██████████| 782/782 [04:50<00:00,  2.69it/s] \n"
     ]
    }
   ],
   "source": [
    "lr = 1e-4\n",
    "optim = Adam(model.parameters(), lr=lr)\n",
    "criterion = nn.CrossEntropyLoss()\n",
    "\n",
    "for epoch in range(30):\n",
    "    iterator = tqdm.tqdm(train_loader)\n",
    "    \n",
    "    for data, label in iterator:\n",
    "        optim.zero_grad()\n",
    "        \n",
    "        preds = model(data.to(device))\n",
    "        \n",
    "        loss = criterion(preds, label.to(device))\n",
    "        loss.backward()\n",
    "        optim.step()\n",
    "        \n",
    "        iterator.set_description(f\"epoch:{epoch+1} loss:{loss.item()}\")\n",
    "        \n",
    "torch.save(model.state_dict(), \"CIFAR_pretrained.pt\")"
   ]
  },
  {
   "attachments": {},
   "cell_type": "markdown",
   "metadata": {},
   "source": [
    "## 3. 모델 성능평가하기"
   ]
  },
  {
   "cell_type": "code",
   "execution_count": 5,
   "metadata": {},
   "outputs": [
    {
     "name": "stdout",
     "output_type": "stream",
     "text": [
      "Accuracy:0.9296\n"
     ]
    }
   ],
   "source": [
    "model.load_state_dict(torch.load(\"CIFAR_pretrained.pt\", map_location=device))\n",
    "\n",
    "num_corr = 0\n",
    "\n",
    "with torch.no_grad():\n",
    "    for data, label in test_loader:\n",
    "        output = model(data.to(device))\n",
    "        \n",
    "        preds = output.max(1)[1]\n",
    "        num_corr += preds.eq(label.to(device).data).sum().item()\n",
    "        \n",
    "print(f\"Accuracy:{num_corr/len(test_data)}\")"
   ]
  },
  {
   "cell_type": "code",
   "execution_count": null,
   "metadata": {},
   "outputs": [],
   "source": []
  },
  {
   "cell_type": "code",
   "execution_count": null,
   "metadata": {},
   "outputs": [],
   "source": []
  }
 ],
 "metadata": {
  "kernelspec": {
   "display_name": "yolo",
   "language": "python",
   "name": "python3"
  },
  "language_info": {
   "codemirror_mode": {
    "name": "ipython",
    "version": 3
   },
   "file_extension": ".py",
   "mimetype": "text/x-python",
   "name": "python",
   "nbconvert_exporter": "python",
   "pygments_lexer": "ipython3",
   "version": "3.8.15"
  },
  "orig_nbformat": 4,
  "vscode": {
   "interpreter": {
    "hash": "1743c7366ef20d43b658b6487c54da34f63679919181a2fe62b0bc99b4b08e22"
   }
  }
 },
 "nbformat": 4,
 "nbformat_minor": 2
}
